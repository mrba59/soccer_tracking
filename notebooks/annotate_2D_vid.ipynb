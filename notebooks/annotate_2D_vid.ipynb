{
 "cells": [
  {
   "cell_type": "markdown",
   "metadata": {},
   "source": [
    "# Annotate 2D vid"
   ]
  },
  {
   "cell_type": "code",
   "execution_count": 38,
   "metadata": {},
   "outputs": [],
   "source": [
    "import cv2\n",
    "import numpy as np\n",
    "import pandas as pd\n",
    "import matplotlib.pyplot as plt"
   ]
  },
  {
   "cell_type": "markdown",
   "metadata": {},
   "source": [
    "import passes dataframe"
   ]
  },
  {
   "cell_type": "code",
   "execution_count": 6,
   "metadata": {},
   "outputs": [
    {
     "data": {
      "text/html": [
       "<div>\n",
       "<style scoped>\n",
       "    .dataframe tbody tr th:only-of-type {\n",
       "        vertical-align: middle;\n",
       "    }\n",
       "\n",
       "    .dataframe tbody tr th {\n",
       "        vertical-align: top;\n",
       "    }\n",
       "\n",
       "    .dataframe thead th {\n",
       "        text-align: right;\n",
       "    }\n",
       "</style>\n",
       "<table border=\"1\" class=\"dataframe\">\n",
       "  <thead>\n",
       "    <tr style=\"text-align: right;\">\n",
       "      <th></th>\n",
       "      <th>start_passe</th>\n",
       "      <th>end_passe</th>\n",
       "      <th>x</th>\n",
       "      <th>y</th>\n",
       "      <th>end_x</th>\n",
       "      <th>end_y</th>\n",
       "      <th>player_start</th>\n",
       "      <th>player_end</th>\n",
       "      <th>team_start</th>\n",
       "      <th>team_end</th>\n",
       "      <th>successful</th>\n",
       "    </tr>\n",
       "  </thead>\n",
       "  <tbody>\n",
       "    <tr>\n",
       "      <th>1</th>\n",
       "      <td>63</td>\n",
       "      <td>164</td>\n",
       "      <td>65.692460</td>\n",
       "      <td>31.726149</td>\n",
       "      <td>17.102715</td>\n",
       "      <td>37.858665</td>\n",
       "      <td>('0', '1')</td>\n",
       "      <td>('1', '9')</td>\n",
       "      <td>0</td>\n",
       "      <td>1</td>\n",
       "      <td>False</td>\n",
       "    </tr>\n",
       "    <tr>\n",
       "      <th>5</th>\n",
       "      <td>555</td>\n",
       "      <td>634</td>\n",
       "      <td>21.316270</td>\n",
       "      <td>49.530840</td>\n",
       "      <td>58.898083</td>\n",
       "      <td>54.562640</td>\n",
       "      <td>('1', '10')</td>\n",
       "      <td>('0', '6')</td>\n",
       "      <td>1</td>\n",
       "      <td>0</td>\n",
       "      <td>False</td>\n",
       "    </tr>\n",
       "    <tr>\n",
       "      <th>6</th>\n",
       "      <td>556</td>\n",
       "      <td>634</td>\n",
       "      <td>21.494547</td>\n",
       "      <td>49.634747</td>\n",
       "      <td>58.898083</td>\n",
       "      <td>54.562640</td>\n",
       "      <td>('1', '10')</td>\n",
       "      <td>('0', '6')</td>\n",
       "      <td>1</td>\n",
       "      <td>0</td>\n",
       "      <td>False</td>\n",
       "    </tr>\n",
       "    <tr>\n",
       "      <th>8</th>\n",
       "      <td>777</td>\n",
       "      <td>879</td>\n",
       "      <td>40.987656</td>\n",
       "      <td>43.936720</td>\n",
       "      <td>12.214892</td>\n",
       "      <td>38.809246</td>\n",
       "      <td>('1', '0')</td>\n",
       "      <td>('1', '10')</td>\n",
       "      <td>1</td>\n",
       "      <td>1</td>\n",
       "      <td>True</td>\n",
       "    </tr>\n",
       "    <tr>\n",
       "      <th>9</th>\n",
       "      <td>822</td>\n",
       "      <td>879</td>\n",
       "      <td>29.937870</td>\n",
       "      <td>33.396630</td>\n",
       "      <td>12.214892</td>\n",
       "      <td>38.809246</td>\n",
       "      <td>('1', '2')</td>\n",
       "      <td>('1', '10')</td>\n",
       "      <td>1</td>\n",
       "      <td>1</td>\n",
       "      <td>True</td>\n",
       "    </tr>\n",
       "  </tbody>\n",
       "</table>\n",
       "</div>"
      ],
      "text/plain": [
       "   start_passe  end_passe          x          y      end_x      end_y  \\\n",
       "1           63        164  65.692460  31.726149  17.102715  37.858665   \n",
       "5          555        634  21.316270  49.530840  58.898083  54.562640   \n",
       "6          556        634  21.494547  49.634747  58.898083  54.562640   \n",
       "8          777        879  40.987656  43.936720  12.214892  38.809246   \n",
       "9          822        879  29.937870  33.396630  12.214892  38.809246   \n",
       "\n",
       "  player_start   player_end  team_start  team_end  successful  \n",
       "1   ('0', '1')   ('1', '9')           0         1       False  \n",
       "5  ('1', '10')   ('0', '6')           1         0       False  \n",
       "6  ('1', '10')   ('0', '6')           1         0       False  \n",
       "8   ('1', '0')  ('1', '10')           1         1        True  \n",
       "9   ('1', '2')  ('1', '10')           1         1        True  "
      ]
     },
     "execution_count": 6,
     "metadata": {},
     "output_type": "execute_result"
    }
   ],
   "source": [
    "passes = pd.read_csv('../dashboard/src/stats/all_passe_with_coordinates.csv', index_col=0)\n",
    "passes.head()"
   ]
  },
  {
   "cell_type": "code",
   "execution_count": 62,
   "metadata": {},
   "outputs": [
    {
     "data": {
      "text/plain": [
       "0"
      ]
     },
     "execution_count": 62,
     "metadata": {},
     "output_type": "execute_result"
    }
   ],
   "source": [
    "passe_lines = passes.loc[(passes[\"start_passe\"] < 70) & (passes[\"end_passe\"] > 70), :]\n",
    "passe_lines.iloc[0].team_start"
   ]
  },
  {
   "cell_type": "markdown",
   "metadata": {},
   "source": [
    "Read video and add annotations.\n",
    "Create folder with all frame"
   ]
  },
  {
   "cell_type": "code",
   "execution_count": 96,
   "metadata": {},
   "outputs": [
    {
     "name": "stdout",
     "output_type": "stream",
     "text": [
      "30.0 800 520 33\n"
     ]
    }
   ],
   "source": [
    "cap = cv2.VideoCapture('../full_game_2D.mp4')\n",
    "fps = cap.get(cv2.CAP_PROP_FPS)\n",
    "width = int(cap.get(cv2.CAP_PROP_FRAME_WIDTH))\n",
    "height = int(cap.get(cv2.CAP_PROP_FRAME_HEIGHT))\n",
    "fourcc = 0x00000021\n",
    "print(fps, width, height, fourcc)\n",
    "\n",
    "# outvid = cv2.VideoWriter('../full_game_2D_passe.mp4', cv2.VideoWriter_fourcc(*'H264'), fps, (width, height), True)\n",
    "\n",
    "success, frame = cap.read()\n",
    "frame_nb = 1\n",
    "while True:\n",
    "    ret, frame = cap.read()\n",
    "    \n",
    "    if not ret:\n",
    "        break\n",
    "    \n",
    "    passe_lines = passes.loc[(passes[\"start_passe\"] < frame_nb) & (passes[\"end_passe\"] > frame_nb), :]\n",
    "    \n",
    "    if len(passe_lines) > 0:\n",
    "        passe_line = passe_lines.iloc[0]\n",
    "        \n",
    "        team_color = (255,0,0) if passe_line.team_start == 0 else (0,0,255)\n",
    "        \n",
    "        frame = cv2.rectangle(frame,(0,0),(800,30),team_color,-1)\n",
    "        frame = cv2.putText(frame, 'Passe', (370, 20), cv2.FONT_HERSHEY_SIMPLEX, 0.5,\n",
    "                            (255, 255, 255), 1, cv2.LINE_AA)\n",
    "        \n",
    "    cv2.imwrite(f'../vid/frame{str(frame_nb).zfill(6)}.png', frame)\n",
    "    frame_nb += 1\n",
    "    # outvid.write(frame)"
   ]
  },
  {
   "cell_type": "markdown",
   "metadata": {},
   "source": [
    "convert to video (codec H264) with ffmpeg"
   ]
  },
  {
   "cell_type": "code",
   "execution_count": 97,
   "metadata": {},
   "outputs": [
    {
     "name": "stdout",
     "output_type": "stream",
     "text": [
      "ffmpeg version 5.1.4-0+deb12u1 Copyright (c) 2000-2023 the FFmpeg developers\n",
      "  built with gcc 12 (Debian 12.2.0-14)\n",
      "  configuration: --prefix=/usr --extra-version=0+deb12u1 --toolchain=hardened --libdir=/usr/lib/x86_64-linux-gnu --incdir=/usr/include/x86_64-linux-gnu --arch=amd64 --enable-gpl --disable-stripping --enable-gnutls --enable-ladspa --enable-libaom --enable-libass --enable-libbluray --enable-libbs2b --enable-libcaca --enable-libcdio --enable-libcodec2 --enable-libdav1d --enable-libflite --enable-libfontconfig --enable-libfreetype --enable-libfribidi --enable-libglslang --enable-libgme --enable-libgsm --enable-libjack --enable-libmp3lame --enable-libmysofa --enable-libopenjpeg --enable-libopenmpt --enable-libopus --enable-libpulse --enable-librabbitmq --enable-librist --enable-librubberband --enable-libshine --enable-libsnappy --enable-libsoxr --enable-libspeex --enable-libsrt --enable-libssh --enable-libsvtav1 --enable-libtheora --enable-libtwolame --enable-libvidstab --enable-libvorbis --enable-libvpx --enable-libwebp --enable-libx265 --enable-libxml2 --enable-libxvid --enable-libzimg --enable-libzmq --enable-libzvbi --enable-lv2 --enable-omx --enable-openal --enable-opencl --enable-opengl --enable-sdl2 --disable-sndio --enable-libjxl --enable-pocketsphinx --enable-librsvg --enable-libmfx --enable-libdc1394 --enable-libdrm --enable-libiec61883 --enable-chromaprint --enable-frei0r --enable-libx264 --enable-libplacebo --enable-librav1e --enable-shared\n",
      "  libavutil      57. 28.100 / 57. 28.100\n",
      "  libavcodec     59. 37.100 / 59. 37.100\n",
      "  libavformat    59. 27.100 / 59. 27.100\n",
      "  libavdevice    59.  7.100 / 59.  7.100\n",
      "  libavfilter     8. 44.100 /  8. 44.100\n",
      "  libswscale      6.  7.100 /  6.  7.100\n",
      "  libswresample   4.  7.100 /  4.  7.100\n",
      "  libpostproc    56.  6.100 / 56.  6.100\n",
      "Input #0, image2, from '../vid/*.png':\n",
      "  Duration: 00:30:00.73, start: 0.000000, bitrate: N/A\n",
      "  Stream #0:0: Video: png, rgb24(pc), 800x520, 30 fps, 30 tbr, 30 tbn\n",
      "Stream mapping:\n",
      "  Stream #0:0 -> #0:0 (png (native) -> h264 (libx264))\n",
      "Press [q] to stop, [?] for help\n",
      "\u001b[1;36m[libx264 @ 0x55b797e92940] \u001b[0musing cpu capabilities: MMX2 SSE2Fast SSSE3 SSE4.2 AVX FMA3 BMI2 AVX2\n",
      "\u001b[1;36m[libx264 @ 0x55b797e92940] \u001b[0mprofile High, level 3.1, 4:2:0, 8-bit\n",
      "\u001b[1;36m[libx264 @ 0x55b797e92940] \u001b[0m264 - core 164 r3095 baee400 - H.264/MPEG-4 AVC codec - Copyleft 2003-2022 - http://www.videolan.org/x264.html - options: cabac=1 ref=3 deblock=1:0:0 analyse=0x3:0x113 me=hex subme=7 psy=1 psy_rd=1.00:0.00 mixed_ref=1 me_range=16 chroma_me=1 trellis=1 8x8dct=1 cqm=0 deadzone=21,11 fast_pskip=1 chroma_qp_offset=-2 threads=16 lookahead_threads=2 sliced_threads=0 nr=0 decimate=1 interlaced=0 bluray_compat=0 constrained_intra=0 bframes=3 b_pyramid=2 b_adapt=1 b_bias=0 direct=1 weightb=1 open_gop=0 weightp=2 keyint=250 keyint_min=25 scenecut=40 intra_refresh=0 rc_lookahead=40 rc=crf mbtree=1 crf=23.0 qcomp=0.60 qpmin=0 qpmax=69 qpstep=4 ip_ratio=1.40 aq=1:1.00\n",
      "Output #0, mp4, to '../full_game_2D_passe.mp4':\n",
      "  Metadata:\n",
      "    encoder         : Lavf59.27.100\n",
      "  Stream #0:0: Video: h264 (avc1 / 0x31637661), yuv420p(tv, progressive), 800x520, q=2-31, 30 fps, 15360 tbn\n",
      "    Metadata:\n",
      "      encoder         : Lavc59.37.100 libx264\n",
      "    Side data:\n",
      "      cpb: bitrate max/min/avg: 0/0/0 buffer size: 0 vbv_delay: N/A\n",
      "frame=54022 fps=143 q=-1.0 Lsize=   16824kB time=00:30:00.63 bitrate=  76.5kbits/s speed=4.77x    \n",
      "video:16199kB audio:0kB subtitle:0kB other streams:0kB global headers:0kB muxing overhead: 3.853939%\n",
      "\u001b[1;36m[libx264 @ 0x55b797e92940] \u001b[0mframe I:217   Avg QP:12.34  size:  5987\n",
      "\u001b[1;36m[libx264 @ 0x55b797e92940] \u001b[0mframe P:14851 Avg QP:20.64  size:   678\n",
      "\u001b[1;36m[libx264 @ 0x55b797e92940] \u001b[0mframe B:38954 Avg QP:23.87  size:   134\n",
      "\u001b[1;36m[libx264 @ 0x55b797e92940] \u001b[0mconsecutive B-frames:  1.5%  4.9%  6.4% 87.1%\n",
      "\u001b[1;36m[libx264 @ 0x55b797e92940] \u001b[0mmb I  I16..4: 58.0% 32.3%  9.7%\n",
      "\u001b[1;36m[libx264 @ 0x55b797e92940] \u001b[0mmb P  I16..4:  0.5%  0.3%  0.0%  P16..4:  3.4%  1.1%  0.7%  0.0%  0.0%    skip:94.0%\n",
      "\u001b[1;36m[libx264 @ 0x55b797e92940] \u001b[0mmb B  I16..4:  0.0%  0.0%  0.0%  B16..8:  3.4%  0.3%  0.0%  direct: 0.1%  skip:96.2%  L0:51.4% L1:46.7% BI: 1.9%\n",
      "\u001b[1;36m[libx264 @ 0x55b797e92940] \u001b[0m8x8 transform intra:34.6% inter:19.4%\n",
      "\u001b[1;36m[libx264 @ 0x55b797e92940] \u001b[0mcoded y,uvDC,uvAC intra: 4.3% 7.4% 6.4% inter: 0.1% 0.8% 0.7%\n",
      "\u001b[1;36m[libx264 @ 0x55b797e92940] \u001b[0mi16 v,h,dc,p: 65% 22% 13%  0%\n",
      "\u001b[1;36m[libx264 @ 0x55b797e92940] \u001b[0mi8 v,h,dc,ddl,ddr,vr,hd,vl,hu: 33%  4% 63%  0%  0%  0%  0%  0%  0%\n",
      "\u001b[1;36m[libx264 @ 0x55b797e92940] \u001b[0mi4 v,h,dc,ddl,ddr,vr,hd,vl,hu: 46% 14% 23%  3%  3%  3%  3%  2%  3%\n",
      "\u001b[1;36m[libx264 @ 0x55b797e92940] \u001b[0mi8c dc,h,v,p: 83% 11%  6%  0%\n",
      "\u001b[1;36m[libx264 @ 0x55b797e92940] \u001b[0mWeighted P-Frames: Y:0.0% UV:0.0%\n",
      "\u001b[1;36m[libx264 @ 0x55b797e92940] \u001b[0mref P L0: 71.1%  2.0% 14.9% 12.0%\n",
      "\u001b[1;36m[libx264 @ 0x55b797e92940] \u001b[0mref B L0: 80.0% 15.9%  4.1%\n",
      "\u001b[1;36m[libx264 @ 0x55b797e92940] \u001b[0mref B L1: 95.0%  5.0%\n",
      "\u001b[1;36m[libx264 @ 0x55b797e92940] \u001b[0mkb/s:73.69\n"
     ]
    }
   ],
   "source": [
    "!ffmpeg -framerate 30 -pattern_type glob -i '../vid/*.png' -c:v libx264 -pix_fmt yuv420p '../full_game_2D_passe.mp4'"
   ]
  }
 ],
 "metadata": {
  "kernelspec": {
   "display_name": "Python 3",
   "language": "python",
   "name": "python3"
  },
  "language_info": {
   "codemirror_mode": {
    "name": "ipython",
    "version": 3
   },
   "file_extension": ".py",
   "mimetype": "text/x-python",
   "name": "python",
   "nbconvert_exporter": "python",
   "pygments_lexer": "ipython3",
   "version": "3.10.13"
  }
 },
 "nbformat": 4,
 "nbformat_minor": 2
}
